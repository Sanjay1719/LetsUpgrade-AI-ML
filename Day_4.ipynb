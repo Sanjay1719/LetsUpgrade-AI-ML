{
  "nbformat": 4,
  "nbformat_minor": 0,
  "metadata": {
    "colab": {
      "name": "Day 4.ipynb",
      "provenance": [],
      "collapsed_sections": [],
      "toc_visible": true
    },
    "kernelspec": {
      "name": "python3",
      "display_name": "Python 3"
    }
  },
  "cells": [
    {
      "cell_type": "code",
      "metadata": {
        "id": "P01QXJQ-FQuY",
        "colab_type": "code",
        "colab": {
          "base_uri": "https://localhost:8080/",
          "height": 34
        },
        "outputId": "5d75644d-433c-43be-f9ae-687d4392447f"
      },
      "source": [
        "#Question 1\n",
        "\n",
        "a=2+4j\n",
        "b=1+2j\n",
        "add=a+b\n",
        "print(\"add=\",add)\n"
      ],
      "execution_count": 5,
      "outputs": [
        {
          "output_type": "stream",
          "text": [
            "add= (3+6j)\n"
          ],
          "name": "stdout"
        }
      ]
    },
    {
      "cell_type": "code",
      "metadata": {
        "id": "9mZnW3NsGPcs",
        "colab_type": "code",
        "colab": {
          "base_uri": "https://localhost:8080/",
          "height": 34
        },
        "outputId": "c243858d-131a-48ad-e1a7-94c909d02f06"
      },
      "source": [
        "a=2+4j\n",
        "b=1+2j\n",
        "sub=a-b\n",
        "print(\"sub=\",sub)"
      ],
      "execution_count": 6,
      "outputs": [
        {
          "output_type": "stream",
          "text": [
            "sub= (1+2j)\n"
          ],
          "name": "stdout"
        }
      ]
    },
    {
      "cell_type": "code",
      "metadata": {
        "id": "tcrt4JkiGXTV",
        "colab_type": "code",
        "colab": {
          "base_uri": "https://localhost:8080/",
          "height": 34
        },
        "outputId": "e700d3d2-f985-4f18-fb13-b151068ca41e"
      },
      "source": [
        "mul=a*b\n",
        "print(\"mul=\",mul)"
      ],
      "execution_count": 7,
      "outputs": [
        {
          "output_type": "stream",
          "text": [
            "mul= (-6+8j)\n"
          ],
          "name": "stdout"
        }
      ]
    },
    {
      "cell_type": "code",
      "metadata": {
        "id": "QoHWzVE_GgWH",
        "colab_type": "code",
        "colab": {
          "base_uri": "https://localhost:8080/",
          "height": 34
        },
        "outputId": "fa289468-8304-45d8-e029-97443a7ad5ad"
      },
      "source": [
        "div=a/b\n",
        "print(\"div=\",div)"
      ],
      "execution_count": 8,
      "outputs": [
        {
          "output_type": "stream",
          "text": [
            "div= (2+0j)\n"
          ],
          "name": "stdout"
        }
      ]
    },
    {
      "cell_type": "code",
      "metadata": {
        "id": "GdOgSPBDGoMn",
        "colab_type": "code",
        "colab": {
          "base_uri": "https://localhost:8080/",
          "height": 180
        },
        "outputId": "a819e3dd-c987-45de-e1e4-1847876c0b67"
      },
      "source": [
        "mod=a%b\n",
        "print(\"mod=\",mod)"
      ],
      "execution_count": 9,
      "outputs": [
        {
          "output_type": "error",
          "ename": "TypeError",
          "evalue": "ignored",
          "traceback": [
            "\u001b[0;31m---------------------------------------------------------------------------\u001b[0m",
            "\u001b[0;31mTypeError\u001b[0m                                 Traceback (most recent call last)",
            "\u001b[0;32m<ipython-input-9-5023e9e61208>\u001b[0m in \u001b[0;36m<module>\u001b[0;34m()\u001b[0m\n\u001b[0;32m----> 1\u001b[0;31m \u001b[0mmod\u001b[0m\u001b[0;34m=\u001b[0m\u001b[0ma\u001b[0m\u001b[0;34m%\u001b[0m\u001b[0mb\u001b[0m\u001b[0;34m\u001b[0m\u001b[0;34m\u001b[0m\u001b[0m\n\u001b[0m\u001b[1;32m      2\u001b[0m \u001b[0mprint\u001b[0m\u001b[0;34m(\u001b[0m\u001b[0;34m\"mod=\"\u001b[0m\u001b[0;34m,\u001b[0m\u001b[0mmod\u001b[0m\u001b[0;34m)\u001b[0m\u001b[0;34m\u001b[0m\u001b[0;34m\u001b[0m\u001b[0m\n",
            "\u001b[0;31mTypeError\u001b[0m: can't mod complex numbers."
          ]
        }
      ]
    },
    {
      "cell_type": "code",
      "metadata": {
        "id": "V2y6Elf0GwEn",
        "colab_type": "code",
        "colab": {
          "base_uri": "https://localhost:8080/",
          "height": 180
        },
        "outputId": "2330b4b1-1605-4390-fe10-446f8f70fd08"
      },
      "source": [
        "flr=a//b\n",
        "print(\"flr=\",flr)"
      ],
      "execution_count": 10,
      "outputs": [
        {
          "output_type": "error",
          "ename": "TypeError",
          "evalue": "ignored",
          "traceback": [
            "\u001b[0;31m---------------------------------------------------------------------------\u001b[0m",
            "\u001b[0;31mTypeError\u001b[0m                                 Traceback (most recent call last)",
            "\u001b[0;32m<ipython-input-10-f3e20d766d2a>\u001b[0m in \u001b[0;36m<module>\u001b[0;34m()\u001b[0m\n\u001b[0;32m----> 1\u001b[0;31m \u001b[0mflr\u001b[0m\u001b[0;34m=\u001b[0m\u001b[0ma\u001b[0m\u001b[0;34m//\u001b[0m\u001b[0mb\u001b[0m\u001b[0;34m\u001b[0m\u001b[0;34m\u001b[0m\u001b[0m\n\u001b[0m\u001b[1;32m      2\u001b[0m \u001b[0mprint\u001b[0m\u001b[0;34m(\u001b[0m\u001b[0;34m\"flr=\"\u001b[0m\u001b[0;34m,\u001b[0m\u001b[0mflr\u001b[0m\u001b[0;34m)\u001b[0m\u001b[0;34m\u001b[0m\u001b[0;34m\u001b[0m\u001b[0m\n",
            "\u001b[0;31mTypeError\u001b[0m: can't take floor of complex number."
          ]
        }
      ]
    },
    {
      "cell_type": "code",
      "metadata": {
        "id": "y5ZARmiWG1FA",
        "colab_type": "code",
        "colab": {}
      },
      "source": [
        "\n",
        "#Addition,Mutiplication, Subtraction and Division operation can be performed over complex numbers but not modulo and floor division"
      ],
      "execution_count": 12,
      "outputs": []
    },
    {
      "cell_type": "markdown",
      "metadata": {
        "id": "WFsyHiwuJqMv",
        "colab_type": "text"
      },
      "source": [
        "#**Range**\n",
        "\n",
        "*range()* is basically a function that returns sequence of integer numbers that start with default integer 0, it has 3 parameters:\n",
        "\n",
        "##start:\n",
        "\n",
        "Represents position to start(default is 0)\n",
        "\n",
        "##stop:\n",
        "\n",
        "Represents position before which iteration need to stop\n",
        "\n",
        "##step:\n",
        "\n",
        "Represents incrementation( default is 1)\n",
        "\n",
        "### Syntax:\n",
        "\n",
        "***range(start,stop,step)***\n",
        "\n",
        "\n",
        "\n",
        "\n"
      ]
    },
    {
      "cell_type": "code",
      "metadata": {
        "id": "53zMm_4kMULV",
        "colab_type": "code",
        "colab": {
          "base_uri": "https://localhost:8080/",
          "height": 170
        },
        "outputId": "7c555db9-25fd-412c-bc07-534f87cfd58b"
      },
      "source": [
        "#Example for range:\n",
        "for i in range(1,10,1):\n",
        "  print(i)\n",
        "\n"
      ],
      "execution_count": 20,
      "outputs": [
        {
          "output_type": "stream",
          "text": [
            "1\n",
            "2\n",
            "3\n",
            "4\n",
            "5\n",
            "6\n",
            "7\n",
            "8\n",
            "9\n"
          ],
          "name": "stdout"
        }
      ]
    },
    {
      "cell_type": "code",
      "metadata": {
        "id": "8uU_sgXiPGZM",
        "colab_type": "code",
        "colab": {
          "base_uri": "https://localhost:8080/",
          "height": 187
        },
        "outputId": "222fd76b-6ba7-4461-e3f8-88ff9b4d64b5"
      },
      "source": [
        "for j in range(10,0,-1):\n",
        "  print(j)"
      ],
      "execution_count": 23,
      "outputs": [
        {
          "output_type": "stream",
          "text": [
            "10\n",
            "9\n",
            "8\n",
            "7\n",
            "6\n",
            "5\n",
            "4\n",
            "3\n",
            "2\n",
            "1\n"
          ],
          "name": "stdout"
        }
      ]
    },
    {
      "cell_type": "code",
      "metadata": {
        "id": "vydrZS-7PVS-",
        "colab_type": "code",
        "colab": {
          "base_uri": "https://localhost:8080/",
          "height": 68
        },
        "outputId": "8a1e483a-edef-4969-f9f7-ff325df3c1d7"
      },
      "source": [
        "#Question 3\n",
        "a=int(input(\"Enter first Number\"))\n",
        "b=int(input(\"Enter second number\"))\n",
        "sub1=a-b\n",
        "if sub1>25:\n",
        "  print(a*b,\" i.e. multiplication\")\n",
        "else:\n",
        "  print(a/b,\" i.e. division\")"
      ],
      "execution_count": 28,
      "outputs": [
        {
          "output_type": "stream",
          "text": [
            "Enter first Number50\n",
            "Enter second number30\n",
            "1.6666666666666667  i.e. division\n"
          ],
          "name": "stdout"
        }
      ]
    },
    {
      "cell_type": "code",
      "metadata": {
        "id": "sB-4zw0KQVbX",
        "colab_type": "code",
        "colab": {
          "base_uri": "https://localhost:8080/",
          "height": 85
        },
        "outputId": "af6ba1c7-9edd-4100-b2da-cdcc64a312b1"
      },
      "source": [
        "# Question 4\n",
        "n=[10,15,20,25,30,35,40]\n",
        "for i in n:\n",
        "  if(i%2==0):\n",
        "    print(i**2-2)\n"
      ],
      "execution_count": 30,
      "outputs": [
        {
          "output_type": "stream",
          "text": [
            "98\n",
            "398\n",
            "898\n",
            "1598\n"
          ],
          "name": "stdout"
        }
      ]
    },
    {
      "cell_type": "code",
      "metadata": {
        "id": "u4PuKI9uRWFK",
        "colab_type": "code",
        "colab": {
          "base_uri": "https://localhost:8080/",
          "height": 136
        },
        "outputId": "505b74a7-e63e-435a-a1e6-936a466eeb86"
      },
      "source": [
        "#Question 5\n",
        "n=range(1,21)\n",
        "for i in n:\n",
        "  if(i>7):\n",
        "    if(i%2==0):\n",
        "      print(i)\n"
      ],
      "execution_count": 32,
      "outputs": [
        {
          "output_type": "stream",
          "text": [
            "8\n",
            "10\n",
            "12\n",
            "14\n",
            "16\n",
            "18\n",
            "20\n"
          ],
          "name": "stdout"
        }
      ]
    },
    {
      "cell_type": "code",
      "metadata": {
        "id": "0evLrgzpR1Iz",
        "colab_type": "code",
        "colab": {}
      },
      "source": [
        ""
      ],
      "execution_count": null,
      "outputs": []
    }
  ]
}