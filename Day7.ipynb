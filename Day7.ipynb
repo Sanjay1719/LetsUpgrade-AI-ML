{
 "cells": [
  {
   "cell_type": "code",
   "execution_count": 54,
   "metadata": {},
   "outputs": [
    {
     "name": "stdout",
     "output_type": "stream",
     "text": [
      "Content of file 1 is= I am learning Python\n",
      "Content of file 2is= I am learning Python\n"
     ]
    }
   ],
   "source": [
    "#Question 1\n",
    "\n",
    "import os\n",
    "\n",
    "file1=open('text1.txt','w')  \n",
    "\n",
    "file1.write(\"I am learning Python\")\n",
    "file1.close()\n",
    "file1=open('text1.txt','r')\n",
    "file2=open('text2.txt','w')\n",
    "l=file1.readline()\n",
    "for line in l:\n",
    "    file2.write(line)\n",
    "file2.close()\n",
    "file1=open('text1.txt','r')\n",
    "file2=open('text2.txt','r')\n",
    "print(\"Content of file 1 is=\",file1.read())\n",
    "print(\"Content of file 2is=\",file2.read())\n",
    "file1.close()\n",
    "file2.close()\n",
    "\n",
    "\n"
   ]
  },
  {
   "cell_type": "code",
   "execution_count": 86,
   "metadata": {},
   "outputs": [
    {
     "name": "stdout",
     "output_type": "stream",
     "text": [
      "Maximum value is:  z 30\n",
      "Minimum value is:  n 1\n"
     ]
    }
   ],
   "source": [
    "#Question 2\n",
    "\n",
    "dict1={'x':10,'y':20,'z':30,'n':1}\n",
    "li=[]\n",
    "for i in dict1:\n",
    "    li.append(dict1[i])\n",
    "min=li[0]\n",
    "for j in li:\n",
    "    if j < min:\n",
    "        min=j\n",
    "max=li[0]\n",
    "for k in li:\n",
    "    if k > max:\n",
    "        max=k\n",
    "for i in dict1:\n",
    "    if(min==dict1[i]):\n",
    "        print(\"Minimum value is: \", i, dict1[i])\n",
    "    if(max==dict1[i]):\n",
    "        print(\"Maximum value is: \", i, dict1[i])\n",
    "    "
   ]
  },
  {
   "cell_type": "code",
   "execution_count": 87,
   "metadata": {},
   "outputs": [
    {
     "data": {
      "text/plain": [
       "'C:\\\\Users\\\\sanjay'"
      ]
     },
     "execution_count": 87,
     "metadata": {},
     "output_type": "execute_result"
    }
   ],
   "source": [
    "os.getcwd()"
   ]
  }
 ],
 "metadata": {
  "kernelspec": {
   "display_name": "Python 3",
   "language": "python",
   "name": "python3"
  },
  "language_info": {
   "codemirror_mode": {
    "name": "ipython",
    "version": 3
   },
   "file_extension": ".py",
   "mimetype": "text/x-python",
   "name": "python",
   "nbconvert_exporter": "python",
   "pygments_lexer": "ipython3",
   "version": "3.8.3"
  }
 },
 "nbformat": 4,
 "nbformat_minor": 4
}
