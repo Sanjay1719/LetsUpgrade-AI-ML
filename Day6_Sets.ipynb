{
  "nbformat": 4,
  "nbformat_minor": 0,
  "metadata": {
    "colab": {
      "name": "Day6_Sets.ipynb",
      "provenance": [],
      "collapsed_sections": []
    },
    "kernelspec": {
      "name": "python3",
      "display_name": "Python 3"
    }
  },
  "cells": [
    {
      "cell_type": "markdown",
      "metadata": {
        "id": "wBJ50dS-99ui",
        "colab_type": "text"
      },
      "source": [
        "#Sets"
      ]
    },
    {
      "cell_type": "markdown",
      "metadata": {
        "id": "rpdfo_py-FfZ",
        "colab_type": "text"
      },
      "source": [
        "*A set is a collection which is unordered and unindexed. In Python, sets are written with curly brackets.*"
      ]
    },
    {
      "cell_type": "code",
      "metadata": {
        "id": "WBXQp5mW-EaJ",
        "colab_type": "code",
        "colab": {
          "base_uri": "https://localhost:8080/",
          "height": 34
        },
        "outputId": "f28127bf-44d5-4a10-dcee-5d9a4fb869a0"
      },
      "source": [
        "seteg = {\"apple\", \"banana\", \"cherry\"}\n",
        "print(seteg)"
      ],
      "execution_count": null,
      "outputs": [
        {
          "output_type": "stream",
          "text": [
            "{'banana', 'cherry', 'apple'}\n"
          ],
          "name": "stdout"
        }
      ]
    },
    {
      "cell_type": "markdown",
      "metadata": {
        "id": "Nz7csI3K-gRy",
        "colab_type": "text"
      },
      "source": [
        " ***You cannot access items in a set by referring to an index or a key.***\n",
        "\n",
        "***But you can loop through the set items using a for loop, or ask if a specified value is present in a set, by using the in keyword.***\n"
      ]
    },
    {
      "cell_type": "code",
      "metadata": {
        "id": "dIlQPC9H-224",
        "colab_type": "code",
        "colab": {
          "base_uri": "https://localhost:8080/",
          "height": 68
        },
        "outputId": "ef73add0-eb2e-4683-9428-3143efbb2ce7"
      },
      "source": [
        "seteg = {\"apple\", \"banana\", \"cherry\"}\n",
        "\n",
        "for x in seteg:\n",
        "  print(x)"
      ],
      "execution_count": null,
      "outputs": [
        {
          "output_type": "stream",
          "text": [
            "banana\n",
            "cherry\n",
            "apple\n"
          ],
          "name": "stdout"
        }
      ]
    },
    {
      "cell_type": "markdown",
      "metadata": {
        "id": "LRHcgGyB_DuK",
        "colab_type": "text"
      },
      "source": [
        "**Once a set is created, you cannot change its items, but you can add new items.**"
      ]
    },
    {
      "cell_type": "markdown",
      "metadata": {
        "id": "y0R1p4uXClYx",
        "colab_type": "text"
      },
      "source": [
        "#**Get the Length of a Set**\n",
        "*To determine how many items a set has, use the len() method.*"
      ]
    },
    {
      "cell_type": "code",
      "metadata": {
        "id": "PFMM3HwuCeH7",
        "colab_type": "code",
        "colab": {
          "base_uri": "https://localhost:8080/",
          "height": 34
        },
        "outputId": "a604e2ae-b20d-487d-f5e8-08714d092596"
      },
      "source": [
        "seteg = {\"apple\", \"banana\", \"cherry\"}\n",
        "\n",
        "print(len(seteg))"
      ],
      "execution_count": null,
      "outputs": [
        {
          "output_type": "stream",
          "text": [
            "3\n"
          ],
          "name": "stdout"
        }
      ]
    },
    {
      "cell_type": "markdown",
      "metadata": {
        "colab_type": "text",
        "id": "hRjGSn5pHLmW"
      },
      "source": [
        "#**Remove Item**\n",
        "\n",
        "\n",
        "*To remove an item in a set, use the remove(), or the discard() method.*"
      ]
    },
    {
      "cell_type": "code",
      "metadata": {
        "id": "FUnY53d_HYag",
        "colab_type": "code",
        "colab": {
          "base_uri": "https://localhost:8080/",
          "height": 34
        },
        "outputId": "c842be44-6edf-414e-a30e-b03a3851ff39"
      },
      "source": [
        "seteg = {\"apple\", \"banana\", \"cherry\"}\n",
        "\n",
        "seteg.remove(\"banana\")\n",
        "\n",
        "print(seteg)"
      ],
      "execution_count": null,
      "outputs": [
        {
          "output_type": "stream",
          "text": [
            "{'cherry', 'apple'}\n"
          ],
          "name": "stdout"
        }
      ]
    },
    {
      "cell_type": "markdown",
      "metadata": {
        "colab_type": "text",
        "id": "XlAhc1GmHk32"
      },
      "source": [
        "#**Join Two Sets**\n",
        "\n",
        "\n",
        "*You can use the union() method that returns a new set containing all items from both sets, or the update() method that inserts all the items from one set into another:*"
      ]
    },
    {
      "cell_type": "code",
      "metadata": {
        "id": "X4gDjlP0HzUN",
        "colab_type": "code",
        "colab": {
          "base_uri": "https://localhost:8080/",
          "height": 34
        },
        "outputId": "935e467e-355c-4db6-ca89-f0dbea11cab7"
      },
      "source": [
        "#union() method\n",
        "set1 = {\"a\", \"b\" , \"c\"}\n",
        "set2 = {1, 2, 3}\n",
        "\n",
        "set3 = set1.union(set2)\n",
        "print(set3)"
      ],
      "execution_count": null,
      "outputs": [
        {
          "output_type": "stream",
          "text": [
            "{1, 'a', 2, 3, 'c', 'b'}\n"
          ],
          "name": "stdout"
        }
      ]
    },
    {
      "cell_type": "code",
      "metadata": {
        "id": "iSpOT3FfH6zM",
        "colab_type": "code",
        "colab": {}
      },
      "source": [
        "#update() method\n",
        "\n",
        "set1 = {\"a\", \"b\" , \"c\"}\n",
        "set2 = {1, 2, 3}\n",
        "\n",
        "set1.update(set2)\n",
        "print(set1)"
      ],
      "execution_count": null,
      "outputs": []
    }
  ]
}