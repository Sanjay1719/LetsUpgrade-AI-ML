{
  "nbformat": 4,
  "nbformat_minor": 0,
  "metadata": {
    "colab": {
      "name": "Day6.ipynb",
      "provenance": [],
      "collapsed_sections": []
    },
    "kernelspec": {
      "name": "python3",
      "display_name": "Python 3"
    }
  },
  "cells": [
    {
      "cell_type": "code",
      "metadata": {
        "id": "BYUFghcJFBQo",
        "colab_type": "code",
        "colab": {
          "base_uri": "https://localhost:8080/",
          "height": 51
        },
        "outputId": "66062ba7-a7d8-40fb-da03-9e3f70a70197"
      },
      "source": [
        "#Question 1\n",
        "\n",
        "def extract(email):\n",
        "  index_at=email.find('@')\n",
        "  index_dot=email.find('.')\n",
        "  return email[index_at+1:index_dot]\n",
        "\n",
        "email=input(\"Enter the email address: \")\n",
        "company_name=extract(email)\n",
        "print(\"company name is=\",company_name)\n"
      ],
      "execution_count": null,
      "outputs": [
        {
          "output_type": "stream",
          "text": [
            "Enter the email address: sanjaytech24@gmail.com\n",
            "company name is= gmail\n"
          ],
          "name": "stdout"
        }
      ]
    },
    {
      "cell_type": "code",
      "metadata": {
        "id": "UGmJVHVzGjLD",
        "colab_type": "code",
        "colab": {
          "base_uri": "https://localhost:8080/",
          "height": 136
        },
        "outputId": "89a746ae-5c82-4ad8-d254-487f68fb8f92"
      },
      "source": [
        "#Question 2\n",
        "\n",
        "limit=int(input(\"Enter the limit of list: \"))\n",
        "li=[]\n",
        "print(\"Enter the list elements\")\n",
        "for i in range(limit):\n",
        "  li.append(input())\n",
        "print(li)\n",
        "print(sorted(li))"
      ],
      "execution_count": null,
      "outputs": [
        {
          "output_type": "stream",
          "text": [
            "Enter the limit of list: 3\n",
            "Enter the list elements\n",
            "sanjay\n",
            "tanu\n",
            "divya\n",
            "['sanjay', 'tanu', 'divya']\n",
            "['divya', 'sanjay', 'tanu']\n"
          ],
          "name": "stdout"
        }
      ]
    },
    {
      "cell_type": "code",
      "metadata": {
        "id": "4UE7wObUI7Pb",
        "colab_type": "code",
        "colab": {
          "base_uri": "https://localhost:8080/",
          "height": 34
        },
        "outputId": "2d316edd-f694-4431-b511-2b7115f0d4fc"
      },
      "source": [
        "#Question 4\n",
        "\n",
        "def getMissingNo(A):\n",
        "    n = len(A)\n",
        "    total = (n + 1)*(n + 2)/2\n",
        "    sum_of_A = sum(A)\n",
        "    return total - sum_of_A\n",
        " \n",
        "A = [1, 2, 3, 4, 5, 6, 7, 9]\n",
        "miss = getMissingNo(A)\n",
        "print(miss)\n"
      ],
      "execution_count": null,
      "outputs": [
        {
          "output_type": "stream",
          "text": [
            "8.0\n"
          ],
          "name": "stdout"
        }
      ]
    },
    {
      "cell_type": "code",
      "metadata": {
        "id": "tyXKn-AtN5G8",
        "colab_type": "code",
        "colab": {
          "base_uri": "https://localhost:8080/",
          "height": 34
        },
        "outputId": "e31d059d-c871-4eac-d55d-616ed0671d51"
      },
      "source": [
        "#Question 5\n",
        "\n",
        "def remove1(dupl):\n",
        "  finlist=[]\n",
        "  for i in dupl:\n",
        "    if i not in finlist:\n",
        "      finlist.append(i)\n",
        "  return finlist\n",
        "\n",
        "li3=[12, 24, 35, 24, 88, 120, 155, 88, 120, 155]\n",
        "print(remove1(li3))"
      ],
      "execution_count": null,
      "outputs": [
        {
          "output_type": "stream",
          "text": [
            "[12, 24, 35, 88, 120, 155]\n"
          ],
          "name": "stdout"
        }
      ]
    },
    {
      "cell_type": "code",
      "metadata": {
        "id": "chPIolIF9rIc",
        "colab_type": "code",
        "colab": {}
      },
      "source": [
        ""
      ],
      "execution_count": null,
      "outputs": []
    }
  ]
}