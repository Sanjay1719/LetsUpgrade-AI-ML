{
  "nbformat": 4,
  "nbformat_minor": 0,
  "metadata": {
    "colab": {
      "name": "Day 3.ipynb",
      "provenance": []
    },
    "kernelspec": {
      "name": "python3",
      "display_name": "Python 3"
    }
  },
  "cells": [
    {
      "cell_type": "code",
      "metadata": {
        "id": "STTf1xcV-qs0",
        "colab_type": "code",
        "colab": {
          "base_uri": "https://localhost:8080/",
          "height": 34
        },
        "outputId": "ea517287-7c97-442e-ded3-fc655cd169f8"
      },
      "source": [
        "#Question 1\n",
        "a=6+8j\n",
        "b=3-6j\n",
        "c=a-b\n",
        "print(\"Subtraction of 2 complex numbers is=\",c)"
      ],
      "execution_count": 1,
      "outputs": [
        {
          "output_type": "stream",
          "text": [
            "Subtraction of 2 complex numbers is= (3+14j)\n"
          ],
          "name": "stdout"
        }
      ]
    },
    {
      "cell_type": "code",
      "metadata": {
        "id": "0JN31ukMQm2W",
        "colab_type": "code",
        "colab": {
          "base_uri": "https://localhost:8080/",
          "height": 34
        },
        "outputId": "599ae608-0863-45b2-f141-209addd9c097"
      },
      "source": [
        "#Question 2\n",
        "a=256**(1/4)\n",
        "print(a)"
      ],
      "execution_count": 10,
      "outputs": [
        {
          "output_type": "stream",
          "text": [
            "4.0\n"
          ],
          "name": "stdout"
        }
      ]
    },
    {
      "cell_type": "code",
      "metadata": {
        "id": "JvwbfTOnRKjJ",
        "colab_type": "code",
        "colab": {
          "base_uri": "https://localhost:8080/",
          "height": 51
        },
        "outputId": "687cec37-a97a-485a-fcf1-9ea9e241447b"
      },
      "source": [
        "#Question 3\n",
        "a= 10\n",
        "b=20\n",
        "print(\"a=\",a,\"b=\",b)\n",
        "c=a\n",
        "a=b\n",
        "b=c\n",
        "print(\"a=\",a,\"b=\",b)"
      ],
      "execution_count": 11,
      "outputs": [
        {
          "output_type": "stream",
          "text": [
            "a= 10 b= 20\n",
            "a= 20 b= 10\n"
          ],
          "name": "stdout"
        }
      ]
    },
    {
      "cell_type": "code",
      "metadata": {
        "id": "yOn1beUVSdK3",
        "colab_type": "code",
        "colab": {
          "base_uri": "https://localhost:8080/",
          "height": 51
        },
        "outputId": "9ef4f7d5-bb84-43ae-92f4-f72e8b62ba21"
      },
      "source": [
        "#Question 4\n",
        "a=6\n",
        "b=7\n",
        "print(\"a=\",a,\"b=\",b)\n",
        "b=a+b\n",
        "a=b-a\n",
        "b=b-a\n",
        "print(\"a=\",a,\"b=\",b)\n"
      ],
      "execution_count": 14,
      "outputs": [
        {
          "output_type": "stream",
          "text": [
            "a= 6 b= 7\n",
            "a= 7 b= 6\n"
          ],
          "name": "stdout"
        }
      ]
    },
    {
      "cell_type": "code",
      "metadata": {
        "id": "dm8JBCeNT2PG",
        "colab_type": "code",
        "colab": {
          "base_uri": "https://localhost:8080/",
          "height": 68
        },
        "outputId": "f0dc2530-4ada-43b4-fd6d-fafb87a4c719"
      },
      "source": [
        "#Question 5\n",
        "farenheit= 98.7\n",
        "celsius=(farenheit-32)*5/9\n",
        "kelvin= celsius+273.15\n",
        "print(\"Temerature in Farenheit=\",farenheit) \n",
        "print(\"Temerature in Celsius=\",celsius) \n",
        "print(\"Temerature in Kelvin=\",kelvin)\n"
      ],
      "execution_count": 17,
      "outputs": [
        {
          "output_type": "stream",
          "text": [
            "Temerature in Farenheit= 98.7\n",
            "Temerature in Celsius= 37.05555555555556\n",
            "Temerature in Kelvin= 310.2055555555555\n"
          ],
          "name": "stdout"
        }
      ]
    },
    {
      "cell_type": "code",
      "metadata": {
        "id": "DlSA_ZnXVXGM",
        "colab_type": "code",
        "colab": {
          "base_uri": "https://localhost:8080/",
          "height": 102
        },
        "outputId": "7fd7c6c3-9ae2-4db8-e3d5-8c99248f0259"
      },
      "source": [
        "#Question 6\n",
        "a=5\n",
        "print(type(a))\n",
        "b= 5.8\n",
        "print(type(b))\n",
        "c=\"Sanjay\"\n",
        "print(type(c))\n",
        "d=4+7j\n",
        "print(type(d))\n",
        "e='Khare'\n",
        "print(type(e))"
      ],
      "execution_count": 18,
      "outputs": [
        {
          "output_type": "stream",
          "text": [
            "<class 'int'>\n",
            "<class 'float'>\n",
            "<class 'str'>\n",
            "<class 'complex'>\n",
            "<class 'str'>\n"
          ],
          "name": "stdout"
        }
      ]
    }
  ]
}