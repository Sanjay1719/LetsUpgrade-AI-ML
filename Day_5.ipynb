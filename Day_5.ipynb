{
  "nbformat": 4,
  "nbformat_minor": 0,
  "metadata": {
    "colab": {
      "name": "Day 5.ipynb",
      "provenance": [],
      "collapsed_sections": []
    },
    "kernelspec": {
      "name": "python3",
      "display_name": "Python 3"
    }
  },
  "cells": [
    {
      "cell_type": "code",
      "metadata": {
        "id": "gDMNdHEw-iOP",
        "colab_type": "code",
        "colab": {
          "base_uri": "https://localhost:8080/",
          "height": 357
        },
        "outputId": "1dc8f87f-4559-4e53-cf02-747b5d56eacf"
      },
      "source": [
        "#Question 1\n",
        "count=0\n",
        "for i in range(1,101):\n",
        "  c=0\n",
        "  for j in range(1,i+1):\n",
        "    if(i%j==0):\n",
        "      c=c+1\n",
        "  if(c==2 and i%2!=0):\n",
        "    if(count==20):\n",
        "      break\n",
        "    else:\n",
        "      print(i)\n",
        "      count=count+1\n"
      ],
      "execution_count": 7,
      "outputs": [
        {
          "output_type": "stream",
          "text": [
            "3\n",
            "5\n",
            "7\n",
            "11\n",
            "13\n",
            "17\n",
            "19\n",
            "23\n",
            "29\n",
            "31\n",
            "37\n",
            "41\n",
            "43\n",
            "47\n",
            "53\n",
            "59\n",
            "61\n",
            "67\n",
            "71\n",
            "73\n"
          ],
          "name": "stdout"
        }
      ]
    },
    {
      "cell_type": "code",
      "metadata": {
        "id": "ZyiIB2AeDyA6",
        "colab_type": "code",
        "colab": {
          "base_uri": "https://localhost:8080/",
          "height": 292
        },
        "outputId": "78142d3a-ef53-4675-ee4c-fc65ec025416"
      },
      "source": [
        "#Question 2\n",
        "\n",
        "name=' sanjay is attending aiml classes '\n",
        "print(name.capitalize()) # capitalize first letter\n",
        "print(name.upper())  # capitalize all letters\n",
        "print(name.count('a')) # count number of times 'a' appeared in sanjay\n",
        "print(name.index('j')) #index of 'j' letter\n",
        "print(name.islower()) # returns true if all letters are small\n",
        "print(name.isupper()) #returns true if al letters are capital\n",
        "print(name.split()) #splits given string and convert to list\n",
        "print(name.swapcase()) #converts lower case characters to upper case and vice versa\n",
        "print(name.find('a')) #returns first occurence of the character 'a' in the given string\n",
        "name1=name.split()\n",
        "name2=\"#\".join(name1) #joins the list of string with the given symbol(here like #)\n",
        "print(name2)\n",
        "print(name.rfind('a')) #specifies last index of the searched character 'a' in the give string\n",
        "print(name.rindex('a')) # specifies last index position of searched character 'a'\n",
        "print(name.strip()) # removes leading and trailing spaces of the given string\n",
        "print(name.title())  #capitalize frst character of every word in the string\n",
        "\n"
      ],
      "execution_count": 32,
      "outputs": [
        {
          "output_type": "stream",
          "text": [
            " sanjay is attending aiml classes \n",
            " SANJAY IS ATTENDING AIML CLASSES \n",
            "5\n",
            "4\n",
            "True\n",
            "False\n",
            "['sanjay', 'is', 'attending', 'aiml', 'classes']\n",
            " SANJAY IS ATTENDING AIML CLASSES \n",
            "2\n",
            "sanjay#is#attending#aiml#classes\n",
            "28\n",
            "28\n",
            "sanjay is attending aiml classes\n",
            " Sanjay Is Attending Aiml Classes \n",
            "[' ', ' ', ' ', ' ', ' ', ' ', 'a', 'a', 'a', 'a', 'a', 'c', 'd', 'e', 'e', 'g', 'i', 'i', 'i', 'j', 'l', 'l', 'm', 'n', 'n', 'n', 's', 's', 's', 's', 's', 't', 't', 'y']\n"
          ],
          "name": "stdout"
        }
      ]
    },
    {
      "cell_type": "code",
      "metadata": {
        "id": "V3TQL3t1QsZY",
        "colab_type": "code",
        "colab": {
          "base_uri": "https://localhost:8080/",
          "height": 85
        },
        "outputId": "6187b5c7-69ab-45a3-f246-9fb012752f76"
      },
      "source": [
        "#Question 3(for pallindrome we require one string but for anagram we require 2 strings, so tried accordingly)\n",
        "\n",
        "def pallindrome(str1):\n",
        "  if str1==str1[::-1]:\n",
        "    return 1\n",
        "  else:\n",
        "    return 0\n",
        "def anagram(str1,str2):\n",
        "  if(sorted(str1)==sorted(str2)):\n",
        "    return 1\n",
        "  else:\n",
        "    return 0\n",
        "choice=int(input(\"Enter User Choice 1-> Pallindrome; 2-> Anagram; 3->nothing\"))\n",
        "if choice==1:\n",
        "  str1=input(\"Enter 1 string\")\n",
        "  a=pallindrome(str1)\n",
        "  if a==1:\n",
        "    print(\"pallindrome\")\n",
        "  else:\n",
        "    print(\"not pallendrome\")\n",
        "elif choice==2:\n",
        "  str2=input(\"Enter 1st string\")\n",
        "  str3=input(\"Enter 2nd string\")\n",
        "  b=anagram(str2,str3)\n",
        "  if b==1:\n",
        "    print(\"anagram\")\n",
        "  else:\n",
        "    print(\"not anagram\")\n",
        "else:\n",
        "  print(\"enter valid input\")"
      ],
      "execution_count": 44,
      "outputs": [
        {
          "output_type": "stream",
          "text": [
            "Enter User Choice 1-> Pallindrome; 2-> Anagram; 3->nothing2\n",
            "Enter 1st stringsilent\n",
            "Enter 2nd stringlisten\n",
            "anagram\n"
          ],
          "name": "stdout"
        }
      ]
    },
    {
      "cell_type": "code",
      "metadata": {
        "id": "cp4lIrqwEsfU",
        "colab_type": "code",
        "colab": {
          "base_uri": "https://localhost:8080/",
          "height": 34
        },
        "outputId": "9c25efd0-b777-489e-f3ff-7a04454e3961"
      },
      "source": [
        "#Question 4\n",
        "name=\"sanjay. is attending AI/ML classes\"\n",
        "name1=''.join(n for n in name if n.isalpha())\n",
        "print(name1.lower())\n",
        "\n"
      ],
      "execution_count": 35,
      "outputs": [
        {
          "output_type": "stream",
          "text": [
            "sanjayisattendingaimlclasses\n"
          ],
          "name": "stdout"
        }
      ]
    }
  ]
}